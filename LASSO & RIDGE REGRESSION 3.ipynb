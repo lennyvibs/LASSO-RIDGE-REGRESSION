{
 "cells": [
  {
   "cell_type": "markdown",
   "id": "3b87ef03",
   "metadata": {},
   "source": [
    "# COMPUTER DATA DATASET\n",
    "Using the above dataset to build a Model using  Linear Regression to predict the price of computer. "
   ]
  },
  {
   "cell_type": "markdown",
   "id": "862d5061",
   "metadata": {},
   "source": [
    "## BUSINESS OBJECTIVE\n",
    "* Maximize profit\n",
    "* Minimize defective products\n",
    "* Maximize Sales\n",
    "* Maximize productivity\n",
    "* Maximize Customer trust"
   ]
  },
  {
   "cell_type": "markdown",
   "id": "13ec6d84",
   "metadata": {},
   "source": [
    "## CONSTRAINTS\n",
    "* Supply Chain limitations\n",
    "* Logistics delay \n",
    "* Availability of components. "
   ]
  },
  {
   "cell_type": "markdown",
   "id": "070c9b64",
   "metadata": {},
   "source": [
    "## DATA DICTIONARY"
   ]
  },
  {
   "cell_type": "markdown",
   "id": "1a47d442",
   "metadata": {},
   "source": [
    "| **slno** |      **Name of Feature**     | **Description**                                                          | **Type** | **Relevance** |\n",
    "|:--------:|:----------------------------|:--------------------------------------------------------------------------|:--------:|:-------------:|\n",
    "| 1 | Unnamed: 0 | This is the index column        | Ratio    | Irrelevant    |\n",
    "| 2 | price | Price of the computer                | Ratio    | Relevant      |\n",
    "| 3 | speed | Processing speed of the computer     | Ratio    | Relevant      |\n",
    "| 4 | hd | Hard Drive space in the computer        | Ratio    | Relevant      |\n",
    "| 5 | ram  | The memory of the computer            | Ratio    | Relevant      |\n",
    "| 6 | screen | The screen size of the computers    | Ratio    | Relevant      |\n",
    "| 7 | cd  | Whether CD drive is present: yes or no | Nominal  | Relevant      |\n",
    "| 8 | multi | Whether multiprocessor: Yes or No    | Nominal  | Relevant      |\n",
    "| 9 | premium | Whether premium: Yes or No         | Nominal  | Relevant      |\n",
    "| 10 | ads | May be number of advertisements       | Ratio    | Relevant      |\n",
    "| 11 | trend | May be the number in which it is trending| Ratio    | Relevant      |\n"
   ]
  },
  {
   "cell_type": "markdown",
   "id": "46e5d637",
   "metadata": {},
   "source": [
    "Importing the required libraries."
   ]
  },
  {
   "cell_type": "code",
   "execution_count": 1,
   "id": "17e87c30",
   "metadata": {},
   "outputs": [],
   "source": [
    "import pandas as pd\n",
    "import numpy as np\n",
    "import matplotlib.pyplot as plt\n",
    "import seaborn as sns\n",
    "from scipy import stats\n",
    "from termcolor import colored\n",
    "from sklearn.model_selection import train_test_split"
   ]
  },
  {
   "cell_type": "markdown",
   "id": "e26adb47",
   "metadata": {},
   "source": [
    "Loading the dataset using the pandas library and confirming the dataset has been loaded properly using the 'head' function"
   ]
  },
  {
   "cell_type": "code",
   "execution_count": 2,
   "id": "3fd16244",
   "metadata": {},
   "outputs": [
    {
     "data": {
      "text/html": [
       "<div>\n",
       "<style scoped>\n",
       "    .dataframe tbody tr th:only-of-type {\n",
       "        vertical-align: middle;\n",
       "    }\n",
       "\n",
       "    .dataframe tbody tr th {\n",
       "        vertical-align: top;\n",
       "    }\n",
       "\n",
       "    .dataframe thead th {\n",
       "        text-align: right;\n",
       "    }\n",
       "</style>\n",
       "<table border=\"1\" class=\"dataframe\">\n",
       "  <thead>\n",
       "    <tr style=\"text-align: right;\">\n",
       "      <th></th>\n",
       "      <th>Unnamed: 0</th>\n",
       "      <th>price</th>\n",
       "      <th>speed</th>\n",
       "      <th>hd</th>\n",
       "      <th>ram</th>\n",
       "      <th>screen</th>\n",
       "      <th>cd</th>\n",
       "      <th>multi</th>\n",
       "      <th>premium</th>\n",
       "      <th>ads</th>\n",
       "      <th>trend</th>\n",
       "    </tr>\n",
       "  </thead>\n",
       "  <tbody>\n",
       "    <tr>\n",
       "      <th>0</th>\n",
       "      <td>1</td>\n",
       "      <td>1499</td>\n",
       "      <td>25</td>\n",
       "      <td>80</td>\n",
       "      <td>4</td>\n",
       "      <td>14</td>\n",
       "      <td>no</td>\n",
       "      <td>no</td>\n",
       "      <td>yes</td>\n",
       "      <td>94</td>\n",
       "      <td>1</td>\n",
       "    </tr>\n",
       "    <tr>\n",
       "      <th>1</th>\n",
       "      <td>2</td>\n",
       "      <td>1795</td>\n",
       "      <td>33</td>\n",
       "      <td>85</td>\n",
       "      <td>2</td>\n",
       "      <td>14</td>\n",
       "      <td>no</td>\n",
       "      <td>no</td>\n",
       "      <td>yes</td>\n",
       "      <td>94</td>\n",
       "      <td>1</td>\n",
       "    </tr>\n",
       "    <tr>\n",
       "      <th>2</th>\n",
       "      <td>3</td>\n",
       "      <td>1595</td>\n",
       "      <td>25</td>\n",
       "      <td>170</td>\n",
       "      <td>4</td>\n",
       "      <td>15</td>\n",
       "      <td>no</td>\n",
       "      <td>no</td>\n",
       "      <td>yes</td>\n",
       "      <td>94</td>\n",
       "      <td>1</td>\n",
       "    </tr>\n",
       "    <tr>\n",
       "      <th>3</th>\n",
       "      <td>4</td>\n",
       "      <td>1849</td>\n",
       "      <td>25</td>\n",
       "      <td>170</td>\n",
       "      <td>8</td>\n",
       "      <td>14</td>\n",
       "      <td>no</td>\n",
       "      <td>no</td>\n",
       "      <td>no</td>\n",
       "      <td>94</td>\n",
       "      <td>1</td>\n",
       "    </tr>\n",
       "    <tr>\n",
       "      <th>4</th>\n",
       "      <td>5</td>\n",
       "      <td>3295</td>\n",
       "      <td>33</td>\n",
       "      <td>340</td>\n",
       "      <td>16</td>\n",
       "      <td>14</td>\n",
       "      <td>no</td>\n",
       "      <td>no</td>\n",
       "      <td>yes</td>\n",
       "      <td>94</td>\n",
       "      <td>1</td>\n",
       "    </tr>\n",
       "  </tbody>\n",
       "</table>\n",
       "</div>"
      ],
      "text/plain": [
       "   Unnamed: 0  price  speed   hd  ram  screen  cd multi premium  ads  trend\n",
       "0           1   1499     25   80    4      14  no    no     yes   94      1\n",
       "1           2   1795     33   85    2      14  no    no     yes   94      1\n",
       "2           3   1595     25  170    4      15  no    no     yes   94      1\n",
       "3           4   1849     25  170    8      14  no    no      no   94      1\n",
       "4           5   3295     33  340   16      14  no    no     yes   94      1"
      ]
     },
     "execution_count": 2,
     "metadata": {},
     "output_type": "execute_result"
    }
   ],
   "source": [
    "df0 = pd.read_csv(r\"D:\\360Digitmg\\ASSIGNMENTS\\Ass22\\Computer_Data.csv\")\n",
    "df=df0.copy()\n",
    "df.head()"
   ]
  },
  {
   "cell_type": "markdown",
   "id": "6b969727",
   "metadata": {},
   "source": [
    "### EXPLORATORY DATA ANALYSIS & FEATURE ENGINEERING"
   ]
  },
  {
   "cell_type": "markdown",
   "id": "89606ccd",
   "metadata": {},
   "source": [
    "The below three lines give a general idea about the dataset like the shape, type and non null values."
   ]
  },
  {
   "cell_type": "code",
   "execution_count": 3,
   "id": "46c129c5",
   "metadata": {},
   "outputs": [
    {
     "data": {
      "text/plain": [
       "(6259, 11)"
      ]
     },
     "execution_count": 3,
     "metadata": {},
     "output_type": "execute_result"
    }
   ],
   "source": [
    "df.shape"
   ]
  },
  {
   "cell_type": "code",
   "execution_count": 4,
   "id": "16c1f67c",
   "metadata": {},
   "outputs": [
    {
     "data": {
      "text/plain": [
       "Unnamed: 0     int64\n",
       "price          int64\n",
       "speed          int64\n",
       "hd             int64\n",
       "ram            int64\n",
       "screen         int64\n",
       "cd            object\n",
       "multi         object\n",
       "premium       object\n",
       "ads            int64\n",
       "trend          int64\n",
       "dtype: object"
      ]
     },
     "execution_count": 4,
     "metadata": {},
     "output_type": "execute_result"
    }
   ],
   "source": [
    "df.dtypes"
   ]
  },
  {
   "cell_type": "code",
   "execution_count": 5,
   "id": "414ae339",
   "metadata": {},
   "outputs": [
    {
     "name": "stdout",
     "output_type": "stream",
     "text": [
      "<class 'pandas.core.frame.DataFrame'>\n",
      "RangeIndex: 6259 entries, 0 to 6258\n",
      "Data columns (total 11 columns):\n",
      " #   Column      Non-Null Count  Dtype \n",
      "---  ------      --------------  ----- \n",
      " 0   Unnamed: 0  6259 non-null   int64 \n",
      " 1   price       6259 non-null   int64 \n",
      " 2   speed       6259 non-null   int64 \n",
      " 3   hd          6259 non-null   int64 \n",
      " 4   ram         6259 non-null   int64 \n",
      " 5   screen      6259 non-null   int64 \n",
      " 6   cd          6259 non-null   object\n",
      " 7   multi       6259 non-null   object\n",
      " 8   premium     6259 non-null   object\n",
      " 9   ads         6259 non-null   int64 \n",
      " 10  trend       6259 non-null   int64 \n",
      "dtypes: int64(8), object(3)\n",
      "memory usage: 538.0+ KB\n"
     ]
    }
   ],
   "source": [
    "df.info()"
   ]
  },
  {
   "cell_type": "markdown",
   "id": "78ee999b",
   "metadata": {},
   "source": [
    "The describe function gives the count, min, max, mean, standard deviation and quantile values of the dataset."
   ]
  },
  {
   "cell_type": "code",
   "execution_count": 6,
   "id": "12c467cc",
   "metadata": {},
   "outputs": [
    {
     "data": {
      "text/html": [
       "<div>\n",
       "<style scoped>\n",
       "    .dataframe tbody tr th:only-of-type {\n",
       "        vertical-align: middle;\n",
       "    }\n",
       "\n",
       "    .dataframe tbody tr th {\n",
       "        vertical-align: top;\n",
       "    }\n",
       "\n",
       "    .dataframe thead th {\n",
       "        text-align: right;\n",
       "    }\n",
       "</style>\n",
       "<table border=\"1\" class=\"dataframe\">\n",
       "  <thead>\n",
       "    <tr style=\"text-align: right;\">\n",
       "      <th></th>\n",
       "      <th>Unnamed: 0</th>\n",
       "      <th>price</th>\n",
       "      <th>speed</th>\n",
       "      <th>hd</th>\n",
       "      <th>ram</th>\n",
       "      <th>screen</th>\n",
       "      <th>ads</th>\n",
       "      <th>trend</th>\n",
       "    </tr>\n",
       "  </thead>\n",
       "  <tbody>\n",
       "    <tr>\n",
       "      <th>count</th>\n",
       "      <td>6259.000000</td>\n",
       "      <td>6259.000000</td>\n",
       "      <td>6259.000000</td>\n",
       "      <td>6259.000000</td>\n",
       "      <td>6259.000000</td>\n",
       "      <td>6259.000000</td>\n",
       "      <td>6259.000000</td>\n",
       "      <td>6259.000000</td>\n",
       "    </tr>\n",
       "    <tr>\n",
       "      <th>mean</th>\n",
       "      <td>3130.000000</td>\n",
       "      <td>2219.576610</td>\n",
       "      <td>52.011024</td>\n",
       "      <td>416.601694</td>\n",
       "      <td>8.286947</td>\n",
       "      <td>14.608723</td>\n",
       "      <td>221.301007</td>\n",
       "      <td>15.926985</td>\n",
       "    </tr>\n",
       "    <tr>\n",
       "      <th>std</th>\n",
       "      <td>1806.961999</td>\n",
       "      <td>580.803956</td>\n",
       "      <td>21.157735</td>\n",
       "      <td>258.548445</td>\n",
       "      <td>5.631099</td>\n",
       "      <td>0.905115</td>\n",
       "      <td>74.835284</td>\n",
       "      <td>7.873984</td>\n",
       "    </tr>\n",
       "    <tr>\n",
       "      <th>min</th>\n",
       "      <td>1.000000</td>\n",
       "      <td>949.000000</td>\n",
       "      <td>25.000000</td>\n",
       "      <td>80.000000</td>\n",
       "      <td>2.000000</td>\n",
       "      <td>14.000000</td>\n",
       "      <td>39.000000</td>\n",
       "      <td>1.000000</td>\n",
       "    </tr>\n",
       "    <tr>\n",
       "      <th>25%</th>\n",
       "      <td>1565.500000</td>\n",
       "      <td>1794.000000</td>\n",
       "      <td>33.000000</td>\n",
       "      <td>214.000000</td>\n",
       "      <td>4.000000</td>\n",
       "      <td>14.000000</td>\n",
       "      <td>162.500000</td>\n",
       "      <td>10.000000</td>\n",
       "    </tr>\n",
       "    <tr>\n",
       "      <th>50%</th>\n",
       "      <td>3130.000000</td>\n",
       "      <td>2144.000000</td>\n",
       "      <td>50.000000</td>\n",
       "      <td>340.000000</td>\n",
       "      <td>8.000000</td>\n",
       "      <td>14.000000</td>\n",
       "      <td>246.000000</td>\n",
       "      <td>16.000000</td>\n",
       "    </tr>\n",
       "    <tr>\n",
       "      <th>75%</th>\n",
       "      <td>4694.500000</td>\n",
       "      <td>2595.000000</td>\n",
       "      <td>66.000000</td>\n",
       "      <td>528.000000</td>\n",
       "      <td>8.000000</td>\n",
       "      <td>15.000000</td>\n",
       "      <td>275.000000</td>\n",
       "      <td>21.500000</td>\n",
       "    </tr>\n",
       "    <tr>\n",
       "      <th>max</th>\n",
       "      <td>6259.000000</td>\n",
       "      <td>5399.000000</td>\n",
       "      <td>100.000000</td>\n",
       "      <td>2100.000000</td>\n",
       "      <td>32.000000</td>\n",
       "      <td>17.000000</td>\n",
       "      <td>339.000000</td>\n",
       "      <td>35.000000</td>\n",
       "    </tr>\n",
       "  </tbody>\n",
       "</table>\n",
       "</div>"
      ],
      "text/plain": [
       "        Unnamed: 0        price        speed           hd          ram  \\\n",
       "count  6259.000000  6259.000000  6259.000000  6259.000000  6259.000000   \n",
       "mean   3130.000000  2219.576610    52.011024   416.601694     8.286947   \n",
       "std    1806.961999   580.803956    21.157735   258.548445     5.631099   \n",
       "min       1.000000   949.000000    25.000000    80.000000     2.000000   \n",
       "25%    1565.500000  1794.000000    33.000000   214.000000     4.000000   \n",
       "50%    3130.000000  2144.000000    50.000000   340.000000     8.000000   \n",
       "75%    4694.500000  2595.000000    66.000000   528.000000     8.000000   \n",
       "max    6259.000000  5399.000000   100.000000  2100.000000    32.000000   \n",
       "\n",
       "            screen          ads        trend  \n",
       "count  6259.000000  6259.000000  6259.000000  \n",
       "mean     14.608723   221.301007    15.926985  \n",
       "std       0.905115    74.835284     7.873984  \n",
       "min      14.000000    39.000000     1.000000  \n",
       "25%      14.000000   162.500000    10.000000  \n",
       "50%      14.000000   246.000000    16.000000  \n",
       "75%      15.000000   275.000000    21.500000  \n",
       "max      17.000000   339.000000    35.000000  "
      ]
     },
     "execution_count": 6,
     "metadata": {},
     "output_type": "execute_result"
    }
   ],
   "source": [
    "df.describe()"
   ]
  },
  {
   "cell_type": "markdown",
   "id": "f7717389",
   "metadata": {},
   "source": [
    "Checking the Number of Duplicates in the Dataset."
   ]
  },
  {
   "cell_type": "code",
   "execution_count": 7,
   "id": "7e5d1006",
   "metadata": {},
   "outputs": [
    {
     "name": "stdout",
     "output_type": "stream",
     "text": [
      "\u001b[1m\u001b[34m Number of Duplicate values: \u001b[0m 0\n"
     ]
    }
   ],
   "source": [
    "duplicate_values=df.duplicated(subset=None,keep='first').sum()\n",
    "print(colored(' Number of Duplicate values: ','blue',attrs=['bold']),duplicate_values)"
   ]
  },
  {
   "cell_type": "markdown",
   "id": "596b1b85",
   "metadata": {},
   "source": [
    "Checking the Number and Percentage of Missing Values in the Dataset."
   ]
  },
  {
   "cell_type": "code",
   "execution_count": 8,
   "id": "72d872c0",
   "metadata": {},
   "outputs": [
    {
     "name": "stdout",
     "output_type": "stream",
     "text": [
      "\u001b[1m\u001b[34mNumber of Missing Values\n",
      "\n",
      "\u001b[0m Unnamed: 0    0\n",
      "price         0\n",
      "speed         0\n",
      "hd            0\n",
      "ram           0\n",
      "screen        0\n",
      "cd            0\n",
      "multi         0\n",
      "premium       0\n",
      "ads           0\n",
      "trend         0\n",
      "dtype: int64\n"
     ]
    }
   ],
   "source": [
    "missing=df.isna().sum().sort_values(ascending=False)\n",
    "print(colored(\"Number of Missing Values\\n\\n\",'blue',attrs=['bold']),missing)"
   ]
  },
  {
   "cell_type": "code",
   "execution_count": 9,
   "id": "422f0bc7",
   "metadata": {},
   "outputs": [
    {
     "name": "stdout",
     "output_type": "stream",
     "text": [
      "\u001b[1m\u001b[34mNumber of Unique Values:\n",
      "\n",
      "\u001b[0m Unnamed: 0    6259\n",
      "price          808\n",
      "speed            6\n",
      "hd              59\n",
      "ram              6\n",
      "screen           3\n",
      "cd               2\n",
      "multi            2\n",
      "premium          2\n",
      "ads             34\n",
      "trend           35\n",
      "dtype: int64\n"
     ]
    }
   ],
   "source": [
    "print(colored('Number of Unique Values:\\n\\n','blue',attrs=['bold']),df.nunique())"
   ]
  },
  {
   "cell_type": "markdown",
   "id": "f658e768",
   "metadata": {},
   "source": [
    "### First Moment Business Decision or Measures of Central Tendency.\n",
    "* It gives the mean, median and mode values of the dataset.\n",
    "* Mean is the average of the data and it easily gets influenced by the outliers.\n",
    "* Median is the middle most value of the dataset.\n",
    "* Mode is the most repeated value of the dataset.\n",
    "* If the mean, median & mode are same then the data has normal distribution otherwise the distribution is not normal."
   ]
  },
  {
   "cell_type": "code",
   "execution_count": 10,
   "id": "c8ffae12",
   "metadata": {},
   "outputs": [
    {
     "name": "stderr",
     "output_type": "stream",
     "text": [
      "C:\\Users\\lenny\\AppData\\Local\\Temp\\ipykernel_17584\\3698961737.py:1: FutureWarning: Dropping of nuisance columns in DataFrame reductions (with 'numeric_only=None') is deprecated; in a future version this will raise TypeError.  Select only valid columns before calling the reduction.\n",
      "  df.mean()\n"
     ]
    },
    {
     "data": {
      "text/plain": [
       "Unnamed: 0    3130.000000\n",
       "price         2219.576610\n",
       "speed           52.011024\n",
       "hd             416.601694\n",
       "ram              8.286947\n",
       "screen          14.608723\n",
       "ads            221.301007\n",
       "trend           15.926985\n",
       "dtype: float64"
      ]
     },
     "execution_count": 10,
     "metadata": {},
     "output_type": "execute_result"
    }
   ],
   "source": [
    "df.mean()"
   ]
  },
  {
   "cell_type": "code",
   "execution_count": 11,
   "id": "457e7aa8",
   "metadata": {},
   "outputs": [
    {
     "name": "stderr",
     "output_type": "stream",
     "text": [
      "C:\\Users\\lenny\\AppData\\Local\\Temp\\ipykernel_17584\\530051474.py:1: FutureWarning: Dropping of nuisance columns in DataFrame reductions (with 'numeric_only=None') is deprecated; in a future version this will raise TypeError.  Select only valid columns before calling the reduction.\n",
      "  df.median()\n"
     ]
    },
    {
     "data": {
      "text/plain": [
       "Unnamed: 0    3130.0\n",
       "price         2144.0\n",
       "speed           50.0\n",
       "hd             340.0\n",
       "ram              8.0\n",
       "screen          14.0\n",
       "ads            246.0\n",
       "trend           16.0\n",
       "dtype: float64"
      ]
     },
     "execution_count": 11,
     "metadata": {},
     "output_type": "execute_result"
    }
   ],
   "source": [
    "df.median()"
   ]
  },
  {
   "cell_type": "code",
   "execution_count": 12,
   "id": "b828d378",
   "metadata": {},
   "outputs": [
    {
     "name": "stderr",
     "output_type": "stream",
     "text": [
      "C:\\Users\\lenny\\AppData\\Local\\Temp\\ipykernel_17584\\4235401754.py:1: FutureWarning: Unlike other reduction functions (e.g. `skew`, `kurtosis`), the default behavior of `mode` typically preserves the axis it acts along. In SciPy 1.11.0, this behavior will change: the default value of `keepdims` will become False, the `axis` over which the statistic is taken will be eliminated, and the value None will no longer be accepted. Set `keepdims` to True or False to avoid this warning.\n",
      "  stats.mode(df)\n",
      "C:\\Users\\lenny\\anaconda3\\lib\\site-packages\\scipy\\stats\\_stats_py.py:110: RuntimeWarning: The input array could not be properly checked for nan values. nan values will be ignored.\n",
      "  warnings.warn(\"The input array could not be properly \"\n",
      "C:\\Users\\lenny\\AppData\\Local\\Temp\\ipykernel_17584\\4235401754.py:1: DeprecationWarning: Support for non-numeric arrays has been deprecated as of SciPy 1.9.0 and will be removed in 1.11.0. `pandas.DataFrame.mode` can be used instead, see https://pandas.pydata.org/docs/reference/api/pandas.DataFrame.mode.html.\n",
      "  stats.mode(df)\n"
     ]
    },
    {
     "data": {
      "text/plain": [
       "ModeResult(mode=array([[1, 1999, 33, 340, 8, 14, 'no', 'no', 'yes', 339, 17]],\n",
       "      dtype=object), count=array([[   1,  103, 2033,  764, 2320, 3661, 3351, 5386, 5647,  339,  339]]))"
      ]
     },
     "execution_count": 12,
     "metadata": {},
     "output_type": "execute_result"
    }
   ],
   "source": [
    "stats.mode(df)"
   ]
  },
  {
   "cell_type": "markdown",
   "id": "ff80d2c1",
   "metadata": {},
   "source": [
    "### Second Moment Business Decision or Measures of Dispersion\n",
    "* It contains Variance, Standard Deviation & Range.\n",
    "* It gives a general idea about the spread of data in the dataset.\n",
    "* Variance is the average squared distance of each data point from the mean.\n",
    "* Standard deviation is the root of the variance.\n",
    "* Range is the difference between the max and min data point of the dataset."
   ]
  },
  {
   "cell_type": "code",
   "execution_count": 13,
   "id": "437c14a9",
   "metadata": {},
   "outputs": [
    {
     "name": "stderr",
     "output_type": "stream",
     "text": [
      "C:\\Users\\lenny\\AppData\\Local\\Temp\\ipykernel_17584\\1568254755.py:1: FutureWarning: Dropping of nuisance columns in DataFrame reductions (with 'numeric_only=None') is deprecated; in a future version this will raise TypeError.  Select only valid columns before calling the reduction.\n",
      "  df.var()\n"
     ]
    },
    {
     "data": {
      "text/plain": [
       "Unnamed: 0    3.265112e+06\n",
       "price         3.373332e+05\n",
       "speed         4.476498e+02\n",
       "hd            6.684730e+04\n",
       "ram           3.170928e+01\n",
       "screen        8.192336e-01\n",
       "ads           5.600320e+03\n",
       "trend         6.199962e+01\n",
       "dtype: float64"
      ]
     },
     "execution_count": 13,
     "metadata": {},
     "output_type": "execute_result"
    }
   ],
   "source": [
    "df.var()"
   ]
  },
  {
   "cell_type": "code",
   "execution_count": 14,
   "id": "f2adb8c6",
   "metadata": {},
   "outputs": [
    {
     "name": "stderr",
     "output_type": "stream",
     "text": [
      "C:\\Users\\lenny\\AppData\\Local\\Temp\\ipykernel_17584\\3390915376.py:1: FutureWarning: Dropping of nuisance columns in DataFrame reductions (with 'numeric_only=None') is deprecated; in a future version this will raise TypeError.  Select only valid columns before calling the reduction.\n",
      "  df.std()\n"
     ]
    },
    {
     "data": {
      "text/plain": [
       "Unnamed: 0    1806.961999\n",
       "price          580.803956\n",
       "speed           21.157735\n",
       "hd             258.548445\n",
       "ram              5.631099\n",
       "screen           0.905115\n",
       "ads             74.835284\n",
       "trend            7.873984\n",
       "dtype: float64"
      ]
     },
     "execution_count": 14,
     "metadata": {},
     "output_type": "execute_result"
    }
   ],
   "source": [
    "df.std()"
   ]
  },
  {
   "cell_type": "markdown",
   "id": "28a243e8",
   "metadata": {},
   "source": [
    "### THIRD MOMENT BUSINESS DECISION OR SKEWNESS\n",
    "* Skewness gives the measure of asymmetry in a data.\n",
    "* The types of skewness are as follows:\n",
    "    * Negative skewness or left skewed.\n",
    "    * Positive skewness or right skewed.\n",
    "    * If skewness = 0 then it is normally distributed."
   ]
  },
  {
   "cell_type": "code",
   "execution_count": 15,
   "id": "4a418d49",
   "metadata": {},
   "outputs": [
    {
     "name": "stderr",
     "output_type": "stream",
     "text": [
      "C:\\Users\\lenny\\AppData\\Local\\Temp\\ipykernel_17584\\1665899112.py:1: FutureWarning: Dropping of nuisance columns in DataFrame reductions (with 'numeric_only=None') is deprecated; in a future version this will raise TypeError.  Select only valid columns before calling the reduction.\n",
      "  df.skew()\n"
     ]
    },
    {
     "data": {
      "text/plain": [
       "Unnamed: 0    0.000000\n",
       "price         0.711725\n",
       "speed         0.657008\n",
       "hd            1.378019\n",
       "ram           1.386202\n",
       "screen        1.634008\n",
       "ads          -0.553328\n",
       "trend         0.236669\n",
       "dtype: float64"
      ]
     },
     "execution_count": 15,
     "metadata": {},
     "output_type": "execute_result"
    }
   ],
   "source": [
    "df.skew()"
   ]
  },
  {
   "cell_type": "markdown",
   "id": "66e9277b",
   "metadata": {},
   "source": [
    "### FOURTH MOMENT BUSINESS DECISION OR KURTOSIS\n",
    "* Kurtosis is the peakedness of the distribution.\n",
    "* Negative kurtosis implies a wider peak and thinner tails.\n",
    "* Positive kurtosis implies a narrow peak and wider tails."
   ]
  },
  {
   "cell_type": "code",
   "execution_count": 16,
   "id": "488baf39",
   "metadata": {
    "scrolled": true
   },
   "outputs": [
    {
     "name": "stderr",
     "output_type": "stream",
     "text": [
      "C:\\Users\\lenny\\AppData\\Local\\Temp\\ipykernel_17584\\1257127604.py:1: FutureWarning: Dropping of nuisance columns in DataFrame reductions (with 'numeric_only=None') is deprecated; in a future version this will raise TypeError.  Select only valid columns before calling the reduction.\n",
      "  df.kurt()\n"
     ]
    },
    {
     "data": {
      "text/plain": [
       "Unnamed: 0   -1.200000\n",
       "price         0.730417\n",
       "speed        -0.275453\n",
       "hd            2.452456\n",
       "ram           1.462250\n",
       "screen        1.851825\n",
       "ads          -0.539843\n",
       "trend        -0.674134\n",
       "dtype: float64"
      ]
     },
     "execution_count": 16,
     "metadata": {},
     "output_type": "execute_result"
    }
   ],
   "source": [
    "df.kurt()"
   ]
  },
  {
   "cell_type": "markdown",
   "id": "55e7aebe",
   "metadata": {},
   "source": [
    "### GRAPHICAL REPRESENTATION"
   ]
  },
  {
   "cell_type": "markdown",
   "id": "4f0cece8",
   "metadata": {},
   "source": [
    "Understanding the relation between price and trend using the scatterplot. "
   ]
  },
  {
   "cell_type": "code",
   "execution_count": 17,
   "id": "74ad5378",
   "metadata": {},
   "outputs": [
    {
     "data": {
      "text/plain": [
       "<seaborn.axisgrid.FacetGrid at 0x204dae4adc0>"
      ]
     },
     "execution_count": 17,
     "metadata": {},
     "output_type": "execute_result"
    },
    {
     "data": {
      "image/png": "[encoded data removed]",
      "text/plain": [
       "<Figure size 440x432 with 4 Axes>"
      ]
     },
     "metadata": {
      "needs_background": "light"
     },
     "output_type": "display_data"
    }
   ],
   "source": [
    "g = sns.FacetGrid(df, col=\"cd\",  row=\"premium\")\n",
    "g.map_dataframe(sns.scatterplot, \"price\", \"trend\")\n",
    "g.add_legend()"
   ]
  },
  {
   "cell_type": "markdown",
   "id": "10f88cbf",
   "metadata": {},
   "source": [
    "From the below plot we can see that the premium models are in majority in the dataset. "
   ]
  },
  {
   "cell_type": "code",
   "execution_count": 18,
   "id": "e8367ba1",
   "metadata": {
    "scrolled": true
   },
   "outputs": [
    {
     "data": {
      "text/plain": [
       "<seaborn.axisgrid.FacetGrid at 0x204dae44070>"
      ]
     },
     "execution_count": 18,
     "metadata": {},
     "output_type": "execute_result"
    },
    {
     "data": {
      "image/png": "[encoded data removed]",
      "text/plain": [
       "<Figure size 413.25x360 with 1 Axes>"
      ]
     },
     "metadata": {
      "needs_background": "light"
     },
     "output_type": "display_data"
    }
   ],
   "source": [
    "sns.displot(df, x=\"price\", hue=\"premium\")"
   ]
  },
  {
   "cell_type": "markdown",
   "id": "d41a97d4",
   "metadata": {},
   "source": [
    "From the below plots we can see that ram with 4GB & 8GB are the most sold when compared to others."
   ]
  },
  {
   "cell_type": "code",
   "execution_count": 19,
   "id": "d7b769b7",
   "metadata": {
    "scrolled": true
   },
   "outputs": [
    {
     "data": {
      "text/plain": [
       "<seaborn.axisgrid.FacetGrid at 0x204dc55efd0>"
      ]
     },
     "execution_count": 19,
     "metadata": {},
     "output_type": "execute_result"
    },
    {
     "data": {
      "image/png": "[encoded data removed]",
      "text/plain": [
       "<Figure size 2160x360 with 6 Axes>"
      ]
     },
     "metadata": {
      "needs_background": "light"
     },
     "output_type": "display_data"
    }
   ],
   "source": [
    "sns.displot(df, x=\"price\", col=\"ram\")"
   ]
  },
  {
   "cell_type": "markdown",
   "id": "2811b834",
   "metadata": {},
   "source": [
    "The countplot confirms the above plot. "
   ]
  },
  {
   "cell_type": "code",
   "execution_count": 20,
   "id": "c274a160",
   "metadata": {
    "scrolled": true
   },
   "outputs": [
    {
     "data": {
      "image/png": "[encoded data removed]",
      "text/plain": [
       "<Figure size 1152x720 with 1 Axes>"
      ]
     },
     "metadata": {
      "needs_background": "light"
     },
     "output_type": "display_data"
    }
   ],
   "source": [
    "plt.figure(1, figsize=(16, 10))\n",
    "sns.countplot(x=df[\"ram\"])\n",
    "plt.xticks(rotation = 45)\n",
    "plt.show()"
   ]
  },
  {
   "cell_type": "markdown",
   "id": "2ac28317",
   "metadata": {},
   "source": [
    "From the countplot we can see that 14 inch screens are the most sold computers followed by 15 and 17 inch screens. "
   ]
  },
  {
   "cell_type": "code",
   "execution_count": 21,
   "id": "8aaeff76",
   "metadata": {
    "scrolled": true
   },
   "outputs": [
    {
     "data": {
      "image/png": "[encoded data removed]",
      "text/plain": [
       "<Figure size 1152x720 with 1 Axes>"
      ]
     },
     "metadata": {
      "needs_background": "light"
     },
     "output_type": "display_data"
    }
   ],
   "source": [
    "plt.figure(1, figsize=(16, 10))\n",
    "sns.countplot(x=df[\"screen\"])\n",
    "plt.xticks(rotation = 45)\n",
    "plt.show()"
   ]
  },
  {
   "cell_type": "markdown",
   "id": "33d8b3dc",
   "metadata": {},
   "source": [
    "Using the QQ-plot to understand the distribution of the label variable. We can see that the distribution is quite normal with right skewness"
   ]
  },
  {
   "cell_type": "code",
   "execution_count": 22,
   "id": "dd7c4eed",
   "metadata": {
    "scrolled": false
   },
   "outputs": [
    {
     "data": {
      "image/png": "[encoded data removed]",
      "text/plain": [
       "<Figure size 432x288 with 1 Axes>"
      ]
     },
     "metadata": {
      "needs_background": "light"
     },
     "output_type": "display_data"
    }
   ],
   "source": [
    "from scipy import stats\n",
    "import pylab\n",
    "stats.probplot(df['price'], dist = \"norm\", plot = pylab)\n",
    "plt.show()"
   ]
  },
  {
   "cell_type": "markdown",
   "id": "728e8a4d",
   "metadata": {},
   "source": [
    "Plotting boxplots of each variable."
   ]
  },
  {
   "cell_type": "code",
   "execution_count": 23,
   "id": "21a9db01",
   "metadata": {},
   "outputs": [
    {
     "name": "stderr",
     "output_type": "stream",
     "text": [
      "C:\\Users\\lenny\\anaconda3\\lib\\site-packages\\seaborn\\_decorators.py:36: FutureWarning: Pass the following variable as a keyword arg: x. From version 0.12, the only valid positional argument will be `data`, and passing other arguments without an explicit keyword will result in an error or misinterpretation.\n",
      "  warnings.warn(\n"
     ]
    },
    {
     "data": {
      "text/plain": [
       "<AxesSubplot:xlabel='price'>"
      ]
     },
     "execution_count": 23,
     "metadata": {},
     "output_type": "execute_result"
    },
    {
     "data": {
      "image/png": "[encoded data removed]",
      "text/plain": [
       "<Figure size 432x288 with 1 Axes>"
      ]
     },
     "metadata": {
      "needs_background": "light"
     },
     "output_type": "display_data"
    }
   ],
   "source": [
    "sns.boxplot(df[\"price\"])"
   ]
  },
  {
   "cell_type": "code",
   "execution_count": 24,
   "id": "0471ff5f",
   "metadata": {
    "scrolled": true
   },
   "outputs": [
    {
     "name": "stderr",
     "output_type": "stream",
     "text": [
      "C:\\Users\\lenny\\anaconda3\\lib\\site-packages\\seaborn\\_decorators.py:36: FutureWarning: Pass the following variable as a keyword arg: x. From version 0.12, the only valid positional argument will be `data`, and passing other arguments without an explicit keyword will result in an error or misinterpretation.\n",
      "  warnings.warn(\n"
     ]
    },
    {
     "data": {
      "text/plain": [
       "<AxesSubplot:xlabel='speed'>"
      ]
     },
     "execution_count": 24,
     "metadata": {},
     "output_type": "execute_result"
    },
    {
     "data": {
      "image/png": "[encoded data removed]",
      "text/plain": [
       "<Figure size 432x288 with 1 Axes>"
      ]
     },
     "metadata": {
      "needs_background": "light"
     },
     "output_type": "display_data"
    }
   ],
   "source": [
    "sns.boxplot(df['speed'])"
   ]
  },
  {
   "cell_type": "code",
   "execution_count": 25,
   "id": "c63ad070",
   "metadata": {},
   "outputs": [
    {
     "name": "stderr",
     "output_type": "stream",
     "text": [
      "C:\\Users\\lenny\\anaconda3\\lib\\site-packages\\seaborn\\_decorators.py:36: FutureWarning: Pass the following variable as a keyword arg: x. From version 0.12, the only valid positional argument will be `data`, and passing other arguments without an explicit keyword will result in an error or misinterpretation.\n",
      "  warnings.warn(\n"
     ]
    },
    {
     "data": {
      "text/plain": [
       "<AxesSubplot:xlabel='hd'>"
      ]
     },
     "execution_count": 25,
     "metadata": {},
     "output_type": "execute_result"
    },
    {
     "data": {
      "image/png": "[encoded data removed]",
      "text/plain": [
       "<Figure size 432x288 with 1 Axes>"
      ]
     },
     "metadata": {
      "needs_background": "light"
     },
     "output_type": "display_data"
    }
   ],
   "source": [
    "sns.boxplot(df['hd'])"
   ]
  },
  {
   "cell_type": "code",
   "execution_count": 26,
   "id": "dbee490c",
   "metadata": {
    "scrolled": true
   },
   "outputs": [
    {
     "name": "stderr",
     "output_type": "stream",
     "text": [
      "C:\\Users\\lenny\\anaconda3\\lib\\site-packages\\seaborn\\_decorators.py:36: FutureWarning: Pass the following variable as a keyword arg: x. From version 0.12, the only valid positional argument will be `data`, and passing other arguments without an explicit keyword will result in an error or misinterpretation.\n",
      "  warnings.warn(\n"
     ]
    },
    {
     "data": {
      "text/plain": [
       "<AxesSubplot:xlabel='ads'>"
      ]
     },
     "execution_count": 26,
     "metadata": {},
     "output_type": "execute_result"
    },
    {
     "data": {
      "image/png": "[encoded data removed]",
      "text/plain": [
       "<Figure size 432x288 with 1 Axes>"
      ]
     },
     "metadata": {
      "needs_background": "light"
     },
     "output_type": "display_data"
    }
   ],
   "source": [
    "sns.boxplot(df['ads'])"
   ]
  },
  {
   "cell_type": "code",
   "execution_count": 27,
   "id": "8972717e",
   "metadata": {},
   "outputs": [
    {
     "name": "stderr",
     "output_type": "stream",
     "text": [
      "C:\\Users\\lenny\\anaconda3\\lib\\site-packages\\seaborn\\_decorators.py:36: FutureWarning: Pass the following variable as a keyword arg: x. From version 0.12, the only valid positional argument will be `data`, and passing other arguments without an explicit keyword will result in an error or misinterpretation.\n",
      "  warnings.warn(\n"
     ]
    },
    {
     "data": {
      "text/plain": [
       "<AxesSubplot:xlabel='trend'>"
      ]
     },
     "execution_count": 27,
     "metadata": {},
     "output_type": "execute_result"
    },
    {
     "data": {
      "image/png": "[encoded data removed]",
      "text/plain": [
       "<Figure size 432x288 with 1 Axes>"
      ]
     },
     "metadata": {
      "needs_background": "light"
     },
     "output_type": "display_data"
    }
   ],
   "source": [
    "sns.boxplot(df['trend'])"
   ]
  },
  {
   "cell_type": "markdown",
   "id": "fb267b36",
   "metadata": {},
   "source": [
    "From the boxplots it is very evident that there are outliers in the dataset so using the below custom function calculated the number of outliers in each variable."
   ]
  },
  {
   "cell_type": "code",
   "execution_count": 28,
   "id": "cc1c0546",
   "metadata": {},
   "outputs": [],
   "source": [
    "#Defining a custom function to get the number of outliers present as doing the steps again would just add extra lines \n",
    "def outlier_func(i):\n",
    "    x=i.quantile(0.25)-((i.quantile(0.75)-i.quantile(0.25))*1.5)\n",
    "    y=i.quantile(0.75)+((i.quantile(0.75)-i.quantile(0.25))*1.5)\n",
    "    outliers= np.where(i > y, True, np.where(i < x, True, False))\n",
    "    return(outliers)"
   ]
  },
  {
   "cell_type": "code",
   "execution_count": 29,
   "id": "79e8d7d1",
   "metadata": {},
   "outputs": [
    {
     "data": {
      "text/plain": [
       "75"
      ]
     },
     "execution_count": 29,
     "metadata": {},
     "output_type": "execute_result"
    }
   ],
   "source": [
    "sum(outlier_func(df[\"price\"]))"
   ]
  },
  {
   "cell_type": "code",
   "execution_count": 30,
   "id": "c9448e1f",
   "metadata": {},
   "outputs": [
    {
     "data": {
      "text/plain": [
       "489"
      ]
     },
     "execution_count": 30,
     "metadata": {},
     "output_type": "execute_result"
    }
   ],
   "source": [
    "sum(outlier_func(df['hd']))"
   ]
  },
  {
   "cell_type": "code",
   "execution_count": 31,
   "id": "3b834fc5",
   "metadata": {},
   "outputs": [],
   "source": [
    "from feature_engine.outliers import Winsorizer"
   ]
  },
  {
   "cell_type": "code",
   "execution_count": 32,
   "id": "282333a5",
   "metadata": {},
   "outputs": [
    {
     "data": {
      "text/plain": [
       "0"
      ]
     },
     "execution_count": 32,
     "metadata": {},
     "output_type": "execute_result"
    }
   ],
   "source": [
    "winsor= Winsorizer(capping_method='iqr',\n",
    "                   tail='both',\n",
    "                   fold=1.5,\n",
    "                   variables=['price'])\n",
    "\n",
    "df['price']= winsor.fit_transform(df[['price']])\n",
    "sum(outlier_func(df['price']))"
   ]
  },
  {
   "cell_type": "code",
   "execution_count": 33,
   "id": "3133c8b5",
   "metadata": {},
   "outputs": [
    {
     "data": {
      "text/plain": [
       "0"
      ]
     },
     "execution_count": 33,
     "metadata": {},
     "output_type": "execute_result"
    }
   ],
   "source": [
    "winsor= Winsorizer(capping_method='iqr',\n",
    "                   tail='both',\n",
    "                   fold=1.5,\n",
    "                   variables=['hd'])\n",
    "\n",
    "df['hd']= winsor.fit_transform(df[['hd']])\n",
    "sum(outlier_func(df['hd']))"
   ]
  },
  {
   "cell_type": "markdown",
   "id": "1258845a",
   "metadata": {},
   "source": [
    "__CORRELATION CHART__"
   ]
  },
  {
   "cell_type": "code",
   "execution_count": 34,
   "id": "c7e00a65",
   "metadata": {},
   "outputs": [
    {
     "data": {
      "text/plain": [
       "<AxesSubplot:>"
      ]
     },
     "execution_count": 34,
     "metadata": {},
     "output_type": "execute_result"
    },
    {
     "data": {
      "image/png": "[encoded data removed]",
      "text/plain": [
       "<Figure size 720x576 with 2 Axes>"
      ]
     },
     "metadata": {
      "needs_background": "light"
     },
     "output_type": "display_data"
    }
   ],
   "source": [
    "plt.figure(figsize=(10,8))\n",
    "sns.heatmap(df.corr(),annot=True)"
   ]
  },
  {
   "cell_type": "markdown",
   "id": "ac3f771f",
   "metadata": {},
   "source": [
    "from the correlation chart we can see that the correlation strength is moderate to low with the dependent variable 'price', with ram having an above moderate strength. "
   ]
  },
  {
   "cell_type": "markdown",
   "id": "055db3fd",
   "metadata": {},
   "source": [
    "__ONE HOT ENCODING__<br>\n",
    "Using the pandas function of get_dummies to get the one hot encoded values of the categorical variables. "
   ]
  },
  {
   "cell_type": "code",
   "execution_count": 35,
   "id": "18bcc6c5",
   "metadata": {},
   "outputs": [
    {
     "data": {
      "text/html": [
       "<div>\n",
       "<style scoped>\n",
       "    .dataframe tbody tr th:only-of-type {\n",
       "        vertical-align: middle;\n",
       "    }\n",
       "\n",
       "    .dataframe tbody tr th {\n",
       "        vertical-align: top;\n",
       "    }\n",
       "\n",
       "    .dataframe thead th {\n",
       "        text-align: right;\n",
       "    }\n",
       "</style>\n",
       "<table border=\"1\" class=\"dataframe\">\n",
       "  <thead>\n",
       "    <tr style=\"text-align: right;\">\n",
       "      <th></th>\n",
       "      <th>cd_yes</th>\n",
       "      <th>multi_yes</th>\n",
       "      <th>premium_yes</th>\n",
       "    </tr>\n",
       "  </thead>\n",
       "  <tbody>\n",
       "    <tr>\n",
       "      <th>0</th>\n",
       "      <td>0</td>\n",
       "      <td>0</td>\n",
       "      <td>1</td>\n",
       "    </tr>\n",
       "    <tr>\n",
       "      <th>1</th>\n",
       "      <td>0</td>\n",
       "      <td>0</td>\n",
       "      <td>1</td>\n",
       "    </tr>\n",
       "    <tr>\n",
       "      <th>2</th>\n",
       "      <td>0</td>\n",
       "      <td>0</td>\n",
       "      <td>1</td>\n",
       "    </tr>\n",
       "    <tr>\n",
       "      <th>3</th>\n",
       "      <td>0</td>\n",
       "      <td>0</td>\n",
       "      <td>0</td>\n",
       "    </tr>\n",
       "    <tr>\n",
       "      <th>4</th>\n",
       "      <td>0</td>\n",
       "      <td>0</td>\n",
       "      <td>1</td>\n",
       "    </tr>\n",
       "  </tbody>\n",
       "</table>\n",
       "</div>"
      ],
      "text/plain": [
       "   cd_yes  multi_yes  premium_yes\n",
       "0       0          0            1\n",
       "1       0          0            1\n",
       "2       0          0            1\n",
       "3       0          0            0\n",
       "4       0          0            1"
      ]
     },
     "execution_count": 35,
     "metadata": {},
     "output_type": "execute_result"
    }
   ],
   "source": [
    "df_enc=df.drop(['Unnamed: 0', 'price', 'speed', 'hd', 'ram', 'screen','ads', 'trend'],axis=1,)\n",
    "df_enc = pd.get_dummies(df_enc, columns = [ 'cd', 'multi','premium'],drop_first=True)\n",
    "df_enc.head()"
   ]
  },
  {
   "cell_type": "markdown",
   "id": "567ecf77",
   "metadata": {},
   "source": [
    "Joining the one hot encoded columns to the original dataset to form a new dataset. "
   ]
  },
  {
   "cell_type": "code",
   "execution_count": 36,
   "id": "35229aba",
   "metadata": {},
   "outputs": [
    {
     "data": {
      "text/html": [
       "<div>\n",
       "<style scoped>\n",
       "    .dataframe tbody tr th:only-of-type {\n",
       "        vertical-align: middle;\n",
       "    }\n",
       "\n",
       "    .dataframe tbody tr th {\n",
       "        vertical-align: top;\n",
       "    }\n",
       "\n",
       "    .dataframe thead th {\n",
       "        text-align: right;\n",
       "    }\n",
       "</style>\n",
       "<table border=\"1\" class=\"dataframe\">\n",
       "  <thead>\n",
       "    <tr style=\"text-align: right;\">\n",
       "      <th></th>\n",
       "      <th>price</th>\n",
       "      <th>speed</th>\n",
       "      <th>hd</th>\n",
       "      <th>ram</th>\n",
       "      <th>screen</th>\n",
       "      <th>ads</th>\n",
       "      <th>trend</th>\n",
       "      <th>cd_yes</th>\n",
       "      <th>multi_yes</th>\n",
       "      <th>premium_yes</th>\n",
       "    </tr>\n",
       "  </thead>\n",
       "  <tbody>\n",
       "    <tr>\n",
       "      <th>0</th>\n",
       "      <td>1499.0</td>\n",
       "      <td>25</td>\n",
       "      <td>80.0</td>\n",
       "      <td>4</td>\n",
       "      <td>14</td>\n",
       "      <td>94</td>\n",
       "      <td>1</td>\n",
       "      <td>0</td>\n",
       "      <td>0</td>\n",
       "      <td>1</td>\n",
       "    </tr>\n",
       "    <tr>\n",
       "      <th>1</th>\n",
       "      <td>1795.0</td>\n",
       "      <td>33</td>\n",
       "      <td>85.0</td>\n",
       "      <td>2</td>\n",
       "      <td>14</td>\n",
       "      <td>94</td>\n",
       "      <td>1</td>\n",
       "      <td>0</td>\n",
       "      <td>0</td>\n",
       "      <td>1</td>\n",
       "    </tr>\n",
       "    <tr>\n",
       "      <th>2</th>\n",
       "      <td>1595.0</td>\n",
       "      <td>25</td>\n",
       "      <td>170.0</td>\n",
       "      <td>4</td>\n",
       "      <td>15</td>\n",
       "      <td>94</td>\n",
       "      <td>1</td>\n",
       "      <td>0</td>\n",
       "      <td>0</td>\n",
       "      <td>1</td>\n",
       "    </tr>\n",
       "    <tr>\n",
       "      <th>3</th>\n",
       "      <td>1849.0</td>\n",
       "      <td>25</td>\n",
       "      <td>170.0</td>\n",
       "      <td>8</td>\n",
       "      <td>14</td>\n",
       "      <td>94</td>\n",
       "      <td>1</td>\n",
       "      <td>0</td>\n",
       "      <td>0</td>\n",
       "      <td>0</td>\n",
       "    </tr>\n",
       "    <tr>\n",
       "      <th>4</th>\n",
       "      <td>3295.0</td>\n",
       "      <td>33</td>\n",
       "      <td>340.0</td>\n",
       "      <td>16</td>\n",
       "      <td>14</td>\n",
       "      <td>94</td>\n",
       "      <td>1</td>\n",
       "      <td>0</td>\n",
       "      <td>0</td>\n",
       "      <td>1</td>\n",
       "    </tr>\n",
       "  </tbody>\n",
       "</table>\n",
       "</div>"
      ],
      "text/plain": [
       "    price  speed     hd  ram  screen  ads  trend  cd_yes  multi_yes  \\\n",
       "0  1499.0     25   80.0    4      14   94      1       0          0   \n",
       "1  1795.0     33   85.0    2      14   94      1       0          0   \n",
       "2  1595.0     25  170.0    4      15   94      1       0          0   \n",
       "3  1849.0     25  170.0    8      14   94      1       0          0   \n",
       "4  3295.0     33  340.0   16      14   94      1       0          0   \n",
       "\n",
       "   premium_yes  \n",
       "0            1  \n",
       "1            1  \n",
       "2            1  \n",
       "3            0  \n",
       "4            1  "
      ]
     },
     "execution_count": 36,
     "metadata": {},
     "output_type": "execute_result"
    }
   ],
   "source": [
    "df_new=df.join(df_enc)\n",
    "df_new.drop([ 'cd', 'multi','premium','Unnamed: 0'],axis=1,inplace=True)\n",
    "df_new.head()"
   ]
  },
  {
   "cell_type": "code",
   "execution_count": 37,
   "id": "ee3159b2",
   "metadata": {},
   "outputs": [
    {
     "data": {
      "text/plain": [
       "<AxesSubplot:>"
      ]
     },
     "execution_count": 37,
     "metadata": {},
     "output_type": "execute_result"
    },
    {
     "data": {
      "image/png": "[encoded data removed]",
      "text/plain": [
       "<Figure size 1080x864 with 2 Axes>"
      ]
     },
     "metadata": {
      "needs_background": "light"
     },
     "output_type": "display_data"
    }
   ],
   "source": [
    "plt.figure(figsize=(15,12))\n",
    "sns.heatmap(df_new.corr(),annot=True)"
   ]
  },
  {
   "cell_type": "markdown",
   "id": "31c41c5e",
   "metadata": {},
   "source": [
    "Again checking the correlation chart to understand the relation between the one hot encoded values and the other variables. "
   ]
  },
  {
   "cell_type": "code",
   "execution_count": null,
   "id": "3aeb560b",
   "metadata": {},
   "outputs": [],
   "source": []
  },
  {
   "cell_type": "code",
   "execution_count": null,
   "id": "f6d2b389",
   "metadata": {},
   "outputs": [],
   "source": []
  },
  {
   "cell_type": "markdown",
   "id": "2b7cb5a8",
   "metadata": {},
   "source": [
    "#### MODEL BUILDING"
   ]
  },
  {
   "cell_type": "markdown",
   "id": "d3f334e3",
   "metadata": {},
   "source": [
    "Importing the library required for building the model. "
   ]
  },
  {
   "cell_type": "code",
   "execution_count": 38,
   "id": "dae39481",
   "metadata": {},
   "outputs": [],
   "source": [
    "import statsmodels.formula.api as smf"
   ]
  },
  {
   "cell_type": "markdown",
   "id": "54f2a1c5",
   "metadata": {},
   "source": [
    "Fitting the model"
   ]
  },
  {
   "cell_type": "code",
   "execution_count": 39,
   "id": "2ee78028",
   "metadata": {},
   "outputs": [
    {
     "data": {
      "text/html": [
       "<table class=\"simpletable\">\n",
       "<caption>OLS Regression Results</caption>\n",
       "<tr>\n",
       "  <th>Dep. Variable:</th>          <td>price</td>      <th>  R-squared:         </th> <td>   0.784</td> \n",
       "</tr>\n",
       "<tr>\n",
       "  <th>Model:</th>                   <td>OLS</td>       <th>  Adj. R-squared:    </th> <td>   0.784</td> \n",
       "</tr>\n",
       "<tr>\n",
       "  <th>Method:</th>             <td>Least Squares</td>  <th>  F-statistic:       </th> <td>   2520.</td> \n",
       "</tr>\n",
       "<tr>\n",
       "  <th>Date:</th>             <td>Mon, 28 Nov 2022</td> <th>  Prob (F-statistic):</th>  <td>  0.00</td>  \n",
       "</tr>\n",
       "<tr>\n",
       "  <th>Time:</th>                 <td>13:29:33</td>     <th>  Log-Likelihood:    </th> <td> -43771.</td> \n",
       "</tr>\n",
       "<tr>\n",
       "  <th>No. Observations:</th>      <td>  6259</td>      <th>  AIC:               </th> <td>8.756e+04</td>\n",
       "</tr>\n",
       "<tr>\n",
       "  <th>Df Residuals:</th>          <td>  6249</td>      <th>  BIC:               </th> <td>8.763e+04</td>\n",
       "</tr>\n",
       "<tr>\n",
       "  <th>Df Model:</th>              <td>     9</td>      <th>                     </th>     <td> </td>    \n",
       "</tr>\n",
       "<tr>\n",
       "  <th>Covariance Type:</th>      <td>nonrobust</td>    <th>                     </th>     <td> </td>    \n",
       "</tr>\n",
       "</table>\n",
       "<table class=\"simpletable\">\n",
       "<tr>\n",
       "       <td></td>          <th>coef</th>     <th>std err</th>      <th>t</th>      <th>P>|t|</th>  <th>[0.025</th>    <th>0.975]</th>  \n",
       "</tr>\n",
       "<tr>\n",
       "  <th>Intercept</th>   <td>  395.2912</td> <td>   57.830</td> <td>    6.835</td> <td> 0.000</td> <td>  281.925</td> <td>  508.657</td>\n",
       "</tr>\n",
       "<tr>\n",
       "  <th>speed</th>       <td>    9.1626</td> <td>    0.177</td> <td>   51.665</td> <td> 0.000</td> <td>    8.815</td> <td>    9.510</td>\n",
       "</tr>\n",
       "<tr>\n",
       "  <th>hd</th>          <td>    0.8385</td> <td>    0.029</td> <td>   29.096</td> <td> 0.000</td> <td>    0.782</td> <td>    0.895</td>\n",
       "</tr>\n",
       "<tr>\n",
       "  <th>ram</th>         <td>   47.3687</td> <td>    1.026</td> <td>   46.164</td> <td> 0.000</td> <td>   45.357</td> <td>   49.380</td>\n",
       "</tr>\n",
       "<tr>\n",
       "  <th>screen</th>      <td>  116.4663</td> <td>    3.833</td> <td>   30.388</td> <td> 0.000</td> <td>  108.953</td> <td>  123.980</td>\n",
       "</tr>\n",
       "<tr>\n",
       "  <th>ads</th>         <td>    0.6176</td> <td>    0.049</td> <td>   12.601</td> <td> 0.000</td> <td>    0.522</td> <td>    0.714</td>\n",
       "</tr>\n",
       "<tr>\n",
       "  <th>trend</th>       <td>  -51.0711</td> <td>    0.607</td> <td>  -84.193</td> <td> 0.000</td> <td>  -52.260</td> <td>  -49.882</td>\n",
       "</tr>\n",
       "<tr>\n",
       "  <th>cd_yes</th>      <td>   51.1200</td> <td>    9.159</td> <td>    5.581</td> <td> 0.000</td> <td>   33.165</td> <td>   69.075</td>\n",
       "</tr>\n",
       "<tr>\n",
       "  <th>multi_yes</th>   <td>  108.4279</td> <td>   10.943</td> <td>    9.909</td> <td> 0.000</td> <td>   86.976</td> <td>  129.880</td>\n",
       "</tr>\n",
       "<tr>\n",
       "  <th>premium_yes</th> <td> -506.9508</td> <td>   11.834</td> <td>  -42.838</td> <td> 0.000</td> <td> -530.150</td> <td> -483.752</td>\n",
       "</tr>\n",
       "</table>\n",
       "<table class=\"simpletable\">\n",
       "<tr>\n",
       "  <th>Omnibus:</th>       <td>546.595</td> <th>  Durbin-Watson:     </th> <td>   1.939</td> \n",
       "</tr>\n",
       "<tr>\n",
       "  <th>Prob(Omnibus):</th> <td> 0.000</td>  <th>  Jarque-Bera (JB):  </th> <td>1156.708</td> \n",
       "</tr>\n",
       "<tr>\n",
       "  <th>Skew:</th>          <td> 0.565</td>  <th>  Prob(JB):          </th> <td>6.67e-252</td>\n",
       "</tr>\n",
       "<tr>\n",
       "  <th>Kurtosis:</th>      <td> 4.778</td>  <th>  Cond. No.          </th> <td>8.97e+03</td> \n",
       "</tr>\n",
       "</table><br/><br/>Notes:<br/>[1] Standard Errors assume that the covariance matrix of the errors is correctly specified.<br/>[2] The condition number is large, 8.97e+03. This might indicate that there are<br/>strong multicollinearity or other numerical problems."
      ],
      "text/plain": [
       "<class 'statsmodels.iolib.summary.Summary'>\n",
       "\"\"\"\n",
       "                            OLS Regression Results                            \n",
       "==============================================================================\n",
       "Dep. Variable:                  price   R-squared:                       0.784\n",
       "Model:                            OLS   Adj. R-squared:                  0.784\n",
       "Method:                 Least Squares   F-statistic:                     2520.\n",
       "Date:                Mon, 28 Nov 2022   Prob (F-statistic):               0.00\n",
       "Time:                        13:29:33   Log-Likelihood:                -43771.\n",
       "No. Observations:                6259   AIC:                         8.756e+04\n",
       "Df Residuals:                    6249   BIC:                         8.763e+04\n",
       "Df Model:                           9                                         \n",
       "Covariance Type:            nonrobust                                         \n",
       "===============================================================================\n",
       "                  coef    std err          t      P>|t|      [0.025      0.975]\n",
       "-------------------------------------------------------------------------------\n",
       "Intercept     395.2912     57.830      6.835      0.000     281.925     508.657\n",
       "speed           9.1626      0.177     51.665      0.000       8.815       9.510\n",
       "hd              0.8385      0.029     29.096      0.000       0.782       0.895\n",
       "ram            47.3687      1.026     46.164      0.000      45.357      49.380\n",
       "screen        116.4663      3.833     30.388      0.000     108.953     123.980\n",
       "ads             0.6176      0.049     12.601      0.000       0.522       0.714\n",
       "trend         -51.0711      0.607    -84.193      0.000     -52.260     -49.882\n",
       "cd_yes         51.1200      9.159      5.581      0.000      33.165      69.075\n",
       "multi_yes     108.4279     10.943      9.909      0.000      86.976     129.880\n",
       "premium_yes  -506.9508     11.834    -42.838      0.000    -530.150    -483.752\n",
       "==============================================================================\n",
       "Omnibus:                      546.595   Durbin-Watson:                   1.939\n",
       "Prob(Omnibus):                  0.000   Jarque-Bera (JB):             1156.708\n",
       "Skew:                           0.565   Prob(JB):                    6.67e-252\n",
       "Kurtosis:                       4.778   Cond. No.                     8.97e+03\n",
       "==============================================================================\n",
       "\n",
       "Notes:\n",
       "[1] Standard Errors assume that the covariance matrix of the errors is correctly specified.\n",
       "[2] The condition number is large, 8.97e+03. This might indicate that there are\n",
       "strong multicollinearity or other numerical problems.\n",
       "\"\"\""
      ]
     },
     "execution_count": 39,
     "metadata": {},
     "output_type": "execute_result"
    }
   ],
   "source": [
    "model = smf.ols('price ~ speed+hd +ram+screen +ads + trend + cd_yes + multi_yes+ premium_yes', data = df_new).fit()\n",
    "model.summary()"
   ]
  },
  {
   "cell_type": "markdown",
   "id": "10bf2028",
   "metadata": {},
   "source": [
    "The values we are concerned with are -<br>\n",
    "\n",
    "* __R-squared/Ajusted R-squared__<br>\n",
    "    R-squared value is 0.784. This shows that 78% of the variance in the dependent variable  can be explained by remaining relevant columns.<br>\n",
    "* __F statistic  p value and its significance__<br>\n",
    "    F statistic has a very low p value (practically low) Meaning that the model fit is statistically significant, and the explained variance isn't purely by chance.<br>\n",
    "* __The coefficients and significance (p-values)__<br>\n",
    "    The coefficients of the independent variables have a very low p-value closer to zero which means they are statistically significant.<br>\n",
    "\n",
    "From the above values we can say that the fit is significant.<br>"
   ]
  },
  {
   "cell_type": "markdown",
   "id": "aa9e10af",
   "metadata": {},
   "source": [
    "__Checking for multicolinearity using VIF values, so that the multicolinear variables can be removed.__<br>\n",
    "Note: Assumption- VIF > 10 = colinearity<br>\n",
    "calculating VIF's values of independent variables"
   ]
  },
  {
   "cell_type": "code",
   "execution_count": 40,
   "id": "16a7c5b0",
   "metadata": {},
   "outputs": [],
   "source": [
    "rsq_s = smf.ols('speed ~ hd +ram+screen +ads + trend + cd_yes + multi_yes+ premium_yes', data = df_new).fit().rsquared  \n",
    "vif_s = 1/(1 - rsq_s) "
   ]
  },
  {
   "cell_type": "code",
   "execution_count": 41,
   "id": "4077a99e",
   "metadata": {},
   "outputs": [],
   "source": [
    "rsq_hd = smf.ols('hd  ~  speed+ram+screen +ads + trend + cd_yes + multi_yes+ premium_yes  ', data = df_new).fit().rsquared  \n",
    "vif_hd = 1/(1 - rsq_hd) "
   ]
  },
  {
   "cell_type": "code",
   "execution_count": 42,
   "id": "51d941c9",
   "metadata": {},
   "outputs": [],
   "source": [
    "rsq_c = smf.ols('ram ~  speed+hd +screen +ads + trend + cd_yes + multi_yes+ premium_yes  ', data = df_new).fit().rsquared  \n",
    "vif_c = 1/(1 - rsq_c) "
   ]
  },
  {
   "cell_type": "code",
   "execution_count": 43,
   "id": "d2fec098",
   "metadata": {},
   "outputs": [],
   "source": [
    "rsq_sc = smf.ols('screen ~  speed+hd +ram+ ads + trend + cd_yes + multi_yes+ premium_yes  ', data = df_new).fit().rsquared  \n",
    "vif_sc = 1/(1 - rsq_sc) "
   ]
  },
  {
   "cell_type": "code",
   "execution_count": 44,
   "id": "587d026c",
   "metadata": {},
   "outputs": [],
   "source": [
    "rsq_ad = smf.ols('ads ~ speed+hd +ram+screen + trend + cd_yes + multi_yes+ premium_yes  ', data = df_new).fit().rsquared  \n",
    "vif_ad = 1/(1 - rsq_ad) "
   ]
  },
  {
   "cell_type": "code",
   "execution_count": 45,
   "id": "fbb7b353",
   "metadata": {},
   "outputs": [],
   "source": [
    "rsq_t = smf.ols('trend ~ speed+hd +ram+screen +ads  + cd_yes + multi_yes+ premium_yes', data = df_new).fit().rsquared  \n",
    "vif_t = 1/(1 - rsq_t) "
   ]
  },
  {
   "cell_type": "code",
   "execution_count": 46,
   "id": "167bcd08",
   "metadata": {},
   "outputs": [],
   "source": [
    "rsq_cd = smf.ols('cd_yes ~ speed+hd +ram+screen +ads + trend  + multi_yes+ premium_yes', data = df_new).fit().rsquared  \n",
    "vif_cd = 1/(1 - rsq_cd) "
   ]
  },
  {
   "cell_type": "code",
   "execution_count": 47,
   "id": "c0eaab46",
   "metadata": {},
   "outputs": [],
   "source": [
    "rsq_m = smf.ols('multi_yes ~ speed+hd +ram+screen +ads + trend + cd_yes + premium_yes', data = df_new).fit().rsquared  \n",
    "vif_m = 1/(1 - rsq_m) "
   ]
  },
  {
   "cell_type": "code",
   "execution_count": 48,
   "id": "64b1ca7f",
   "metadata": {},
   "outputs": [],
   "source": [
    "rsq_p = smf.ols('premium_yes  ~ speed+hd +ram+screen +ads + trend + cd_yes + multi_yes', data = df_new).fit().rsquared  \n",
    "vif_p = 1/(1 - rsq_p) "
   ]
  },
  {
   "cell_type": "code",
   "execution_count": 49,
   "id": "c83f94c5",
   "metadata": {},
   "outputs": [
    {
     "data": {
      "text/html": [
       "<div>\n",
       "<style scoped>\n",
       "    .dataframe tbody tr th:only-of-type {\n",
       "        vertical-align: middle;\n",
       "    }\n",
       "\n",
       "    .dataframe tbody tr th {\n",
       "        vertical-align: top;\n",
       "    }\n",
       "\n",
       "    .dataframe thead th {\n",
       "        text-align: right;\n",
       "    }\n",
       "</style>\n",
       "<table border=\"1\" class=\"dataframe\">\n",
       "  <thead>\n",
       "    <tr style=\"text-align: right;\">\n",
       "      <th></th>\n",
       "      <th>Variables</th>\n",
       "      <th>VIF</th>\n",
       "    </tr>\n",
       "  </thead>\n",
       "  <tbody>\n",
       "    <tr>\n",
       "      <th>0</th>\n",
       "      <td>speed</td>\n",
       "      <td>1.266050</td>\n",
       "    </tr>\n",
       "    <tr>\n",
       "      <th>1</th>\n",
       "      <td>hd</td>\n",
       "      <td>4.379518</td>\n",
       "    </tr>\n",
       "    <tr>\n",
       "      <th>2</th>\n",
       "      <td>ram</td>\n",
       "      <td>3.002202</td>\n",
       "    </tr>\n",
       "    <tr>\n",
       "      <th>3</th>\n",
       "      <td>screen</td>\n",
       "      <td>1.082102</td>\n",
       "    </tr>\n",
       "    <tr>\n",
       "      <th>4</th>\n",
       "      <td>ads</td>\n",
       "      <td>1.209885</td>\n",
       "    </tr>\n",
       "    <tr>\n",
       "      <th>5</th>\n",
       "      <td>trend</td>\n",
       "      <td>2.051432</td>\n",
       "    </tr>\n",
       "    <tr>\n",
       "      <th>6</th>\n",
       "      <td>cd_yes</td>\n",
       "      <td>1.876679</td>\n",
       "    </tr>\n",
       "    <tr>\n",
       "      <th>7</th>\n",
       "      <td>multi_yes</td>\n",
       "      <td>1.292642</td>\n",
       "    </tr>\n",
       "    <tr>\n",
       "      <th>8</th>\n",
       "      <td>premium_yes</td>\n",
       "      <td>1.111147</td>\n",
       "    </tr>\n",
       "  </tbody>\n",
       "</table>\n",
       "</div>"
      ],
      "text/plain": [
       "     Variables       VIF\n",
       "0        speed  1.266050\n",
       "1           hd  4.379518\n",
       "2          ram  3.002202\n",
       "3       screen  1.082102\n",
       "4          ads  1.209885\n",
       "5        trend  2.051432\n",
       "6       cd_yes  1.876679\n",
       "7    multi_yes  1.292642\n",
       "8  premium_yes  1.111147"
      ]
     },
     "execution_count": 49,
     "metadata": {},
     "output_type": "execute_result"
    }
   ],
   "source": [
    "# Storing vif values in a data frame\n",
    "d1 = {'Variables':['speed', 'hd', 'ram', 'screen', 'ads', 'trend', 'cd_yes','multi_yes', 'premium_yes'], 'VIF':[vif_s, vif_hd, vif_c,vif_sc, vif_ad, vif_t,vif_cd, vif_m, vif_p]}\n",
    "Vif_frame = pd.DataFrame(d1)  \n",
    "Vif_frame"
   ]
  },
  {
   "cell_type": "markdown",
   "id": "81e0be3b",
   "metadata": {},
   "source": [
    "From the above values we can see that there are no multicolinearity issue among the different variables. "
   ]
  },
  {
   "cell_type": "markdown",
   "id": "2c14faef",
   "metadata": {},
   "source": [
    "#####  Checking the distribution of the residuals. "
   ]
  },
  {
   "cell_type": "markdown",
   "id": "ba1154b4",
   "metadata": {},
   "source": [
    "Normality of the residuals is an assumption of running a linear model. So, if our residuals are normal, it means that our assumption is valid and model inference should also be valid.Here the residual follows a normal distribution with slight skewness as seen in the below plot."
   ]
  },
  {
   "cell_type": "code",
   "execution_count": 50,
   "id": "0ba0fa90",
   "metadata": {},
   "outputs": [
    {
     "data": {
      "image/png": "[encoded data removed]",
      "text/plain": [
       "<Figure size 432x288 with 1 Axes>"
      ]
     },
     "metadata": {
      "needs_background": "light"
     },
     "output_type": "display_data"
    }
   ],
   "source": [
    "pred = model.predict(df_new)\n",
    "res = model.resid\n",
    "stats.probplot(res, dist = \"norm\", plot = pylab)\n",
    "plt.show()"
   ]
  },
  {
   "cell_type": "code",
   "execution_count": 51,
   "id": "f5050d5b",
   "metadata": {
    "scrolled": true
   },
   "outputs": [
    {
     "data": {
      "image/png": "[encoded data removed]",
      "text/plain": [
       "<Figure size 432x288 with 1 Axes>"
      ]
     },
     "metadata": {
      "needs_background": "light"
     },
     "output_type": "display_data"
    }
   ],
   "source": [
    "# Residuals vs Fitted plot\n",
    "sns.residplot(x = pred, y = df_new.price, lowess = True,line_kws=dict(color=\"r\"))\n",
    "plt.xlabel('Fitted')\n",
    "plt.ylabel('Residual')\n",
    "plt.title('Fitted vs Residual')\n",
    "plt.show()"
   ]
  },
  {
   "cell_type": "markdown",
   "id": "21c1c8d2",
   "metadata": {},
   "source": [
    "* The residuals \"bounce randomly\" around the 0 line. This suggests that the assumption that the relationship is linear is reasonable.\n",
    "* The residuals roughly form a \"horizontal band\" around the 0 line. This suggests that the variances of the error terms are equal.\n",
    "* Some residuals \"stands out\" from the basic random pattern of residuals. This suggests that there are some outliers."
   ]
  },
  {
   "cell_type": "markdown",
   "id": "89bd4072",
   "metadata": {},
   "source": [
    "Splitting the dataset to check the rmse values for both the test and train dataset which will help us to understand how well the model works."
   ]
  },
  {
   "cell_type": "code",
   "execution_count": 52,
   "id": "488405c1",
   "metadata": {},
   "outputs": [],
   "source": [
    "from sklearn.model_selection import train_test_split\n",
    "df_train, df_test = train_test_split(df_new, test_size = 0.3, random_state =457) "
   ]
  },
  {
   "cell_type": "code",
   "execution_count": 53,
   "id": "8f410e99",
   "metadata": {},
   "outputs": [],
   "source": [
    "# preparing the model on train data \n",
    "model_train = smf.ols('price ~ speed+hd +ram+screen +ads + trend + cd_yes + multi_yes+ premium_yes', data = df_train).fit()"
   ]
  },
  {
   "cell_type": "code",
   "execution_count": 54,
   "id": "5e17fe01",
   "metadata": {},
   "outputs": [
    {
     "data": {
      "text/plain": [
       "263.6232063511534"
      ]
     },
     "execution_count": 54,
     "metadata": {},
     "output_type": "execute_result"
    }
   ],
   "source": [
    "# prediction on test data set \n",
    "test_pred = model_train.predict(df_test)\n",
    "\n",
    "# test residual values \n",
    "test_resid = test_pred - df_test.price\n",
    "# RMSE value for test data \n",
    "test_rmse = np.sqrt(np.mean(test_resid * test_resid))\n",
    "test_rmse"
   ]
  },
  {
   "cell_type": "code",
   "execution_count": 55,
   "id": "5b988175",
   "metadata": {},
   "outputs": [
    {
     "data": {
      "text/plain": [
       "263.6772740828667"
      ]
     },
     "execution_count": 55,
     "metadata": {},
     "output_type": "execute_result"
    }
   ],
   "source": [
    "# train_data prediction\n",
    "train_pred = model_train.predict(df_train)\n",
    "\n",
    "# train residual values \n",
    "train_resid  = train_pred - df_train.price\n",
    "# RMSE value for train data \n",
    "train_rmse = np.sqrt(np.mean(train_resid * train_resid))\n",
    "train_rmse"
   ]
  },
  {
   "cell_type": "markdown",
   "id": "a9d6898c",
   "metadata": {},
   "source": [
    "__LASSO & RIDGE REGRESSION__"
   ]
  },
  {
   "cell_type": "markdown",
   "id": "4ba1078f",
   "metadata": {},
   "source": [
    "Importing the library required for Lasso & Ridge Regression. "
   ]
  },
  {
   "cell_type": "code",
   "execution_count": 56,
   "id": "2a2ca5d8",
   "metadata": {},
   "outputs": [],
   "source": [
    "from sklearn.model_selection import GridSearchCV\n",
    "from sklearn.linear_model import Lasso\n",
    "from sklearn.linear_model import Ridge\n",
    "from sklearn.linear_model import ElasticNet"
   ]
  },
  {
   "cell_type": "markdown",
   "id": "b8e476b1",
   "metadata": {},
   "source": [
    "Declaring the parameters to be evaluated using gridsearchCV"
   ]
  },
  {
   "cell_type": "code",
   "execution_count": 57,
   "id": "b78aaa1e",
   "metadata": {},
   "outputs": [],
   "source": [
    "parameters = {'alpha': [ 1e-10, 1e-8, 1e-4, 1e-3, 1e-2, 1, 5 ,10, 20]}\n"
   ]
  },
  {
   "cell_type": "markdown",
   "id": "98db7b97",
   "metadata": {},
   "source": [
    "__Lasso Regeression__"
   ]
  },
  {
   "cell_type": "markdown",
   "id": "24635b4b",
   "metadata": {},
   "source": [
    "Declaring the lasso object"
   ]
  },
  {
   "cell_type": "code",
   "execution_count": 58,
   "id": "4fea8912",
   "metadata": {},
   "outputs": [],
   "source": [
    "lasso = Lasso()"
   ]
  },
  {
   "cell_type": "markdown",
   "id": "63348a75",
   "metadata": {},
   "source": [
    "Using the gridsearchcv to find the best parameters from the declared parameters and creating the lasso object "
   ]
  },
  {
   "cell_type": "code",
   "execution_count": 59,
   "id": "cece0fa2",
   "metadata": {},
   "outputs": [],
   "source": [
    "lasso_reg = GridSearchCV(lasso, parameters, scoring = 'r2', cv = 5)"
   ]
  },
  {
   "cell_type": "markdown",
   "id": "76c9c280",
   "metadata": {},
   "source": [
    "Fitting the Lasso object on the train dataset."
   ]
  },
  {
   "cell_type": "code",
   "execution_count": 60,
   "id": "bf63e425",
   "metadata": {
    "scrolled": true
   },
   "outputs": [
    {
     "data": {
      "text/plain": [
       "GridSearchCV(cv=5, estimator=Lasso(),\n",
       "             param_grid={'alpha': [1e-10, 1e-08, 0.0001, 0.001, 0.01, 1, 5, 10,\n",
       "                                   20]},\n",
       "             scoring='r2')"
      ]
     },
     "execution_count": 60,
     "metadata": {},
     "output_type": "execute_result"
    }
   ],
   "source": [
    "lasso_reg.fit(df_train.iloc[:,1:], df_train.price)"
   ]
  },
  {
   "cell_type": "markdown",
   "id": "ed37a91f",
   "metadata": {},
   "source": [
    "Checking the best parameter"
   ]
  },
  {
   "cell_type": "code",
   "execution_count": 61,
   "id": "6099d178",
   "metadata": {},
   "outputs": [
    {
     "data": {
      "text/plain": [
       "{'alpha': 1e-10}"
      ]
     },
     "execution_count": 61,
     "metadata": {},
     "output_type": "execute_result"
    }
   ],
   "source": [
    "lasso_reg.best_params_"
   ]
  },
  {
   "cell_type": "markdown",
   "id": "2d504ba5",
   "metadata": {},
   "source": [
    "__Adjusted R-square__"
   ]
  },
  {
   "cell_type": "code",
   "execution_count": 63,
   "id": "108f7189",
   "metadata": {},
   "outputs": [
    {
     "data": {
      "text/plain": [
       "0.7806718283176002"
      ]
     },
     "execution_count": 63,
     "metadata": {},
     "output_type": "execute_result"
    }
   ],
   "source": [
    "lasso_reg.score(df_train.iloc[:,1:], df_train.price)"
   ]
  },
  {
   "cell_type": "markdown",
   "id": "1a01f291",
   "metadata": {},
   "source": [
    "__Test Dataset__"
   ]
  },
  {
   "cell_type": "markdown",
   "id": "77acc860",
   "metadata": {},
   "source": [
    "Using the lasso object to predict the output using the independent variables."
   ]
  },
  {
   "cell_type": "code",
   "execution_count": 64,
   "id": "e9a0a6c8",
   "metadata": {},
   "outputs": [
    {
     "data": {
      "text/plain": [
       "263.6232063511707"
      ]
     },
     "execution_count": 64,
     "metadata": {},
     "output_type": "execute_result"
    }
   ],
   "source": [
    "lasso_predtest = lasso_reg.predict(df_test.iloc[:,1:])\n",
    "# RMSE\n",
    "np.sqrt(np.mean((lasso_predtest - df_test.price)**2))"
   ]
  },
  {
   "cell_type": "markdown",
   "id": "30ff7305",
   "metadata": {},
   "source": [
    "__Train Dataset__"
   ]
  },
  {
   "cell_type": "code",
   "execution_count": 65,
   "id": "4af7209d",
   "metadata": {},
   "outputs": [
    {
     "data": {
      "text/plain": [
       "263.67727408286675"
      ]
     },
     "execution_count": 65,
     "metadata": {},
     "output_type": "execute_result"
    }
   ],
   "source": [
    "lasso_predtrain = lasso_reg.predict(df_train.iloc[:,1:])\n",
    "# RMSE\n",
    "np.sqrt(np.mean((lasso_predtrain - df_train.price)**2))"
   ]
  },
  {
   "cell_type": "code",
   "execution_count": null,
   "id": "8f6dd04a",
   "metadata": {},
   "outputs": [],
   "source": []
  },
  {
   "cell_type": "markdown",
   "id": "19302426",
   "metadata": {},
   "source": [
    "__Ridge Regeression__"
   ]
  },
  {
   "cell_type": "markdown",
   "id": "ee6e5039",
   "metadata": {},
   "source": [
    "Declaring the ridge object"
   ]
  },
  {
   "cell_type": "code",
   "execution_count": 66,
   "id": "041d727f",
   "metadata": {},
   "outputs": [],
   "source": [
    "ridge = Ridge()"
   ]
  },
  {
   "cell_type": "markdown",
   "id": "15586ad2",
   "metadata": {},
   "source": [
    "Using the gridsearchcv to find the best parameters from the declared parameters and creating the ridge object "
   ]
  },
  {
   "cell_type": "code",
   "execution_count": 67,
   "id": "530658a6",
   "metadata": {},
   "outputs": [],
   "source": [
    "ridge_reg = GridSearchCV(ridge, parameters, scoring = 'r2', cv = 5)"
   ]
  },
  {
   "cell_type": "markdown",
   "id": "906920e9",
   "metadata": {},
   "source": [
    "Fitting the ridge object on the train dataset."
   ]
  },
  {
   "cell_type": "code",
   "execution_count": 68,
   "id": "424535b5",
   "metadata": {
    "scrolled": true
   },
   "outputs": [
    {
     "data": {
      "text/plain": [
       "GridSearchCV(cv=5, estimator=Ridge(),\n",
       "             param_grid={'alpha': [1e-10, 1e-08, 0.0001, 0.001, 0.01, 1, 5, 10,\n",
       "                                   20]},\n",
       "             scoring='r2')"
      ]
     },
     "execution_count": 68,
     "metadata": {},
     "output_type": "execute_result"
    }
   ],
   "source": [
    "ridge_reg.fit(df_train.iloc[:,1:], df_train.price)"
   ]
  },
  {
   "cell_type": "markdown",
   "id": "97671f66",
   "metadata": {},
   "source": [
    "Checking the best parameter"
   ]
  },
  {
   "cell_type": "code",
   "execution_count": 69,
   "id": "428caa22",
   "metadata": {},
   "outputs": [
    {
     "data": {
      "text/plain": [
       "{'alpha': 0.01}"
      ]
     },
     "execution_count": 69,
     "metadata": {},
     "output_type": "execute_result"
    }
   ],
   "source": [
    "ridge_reg.best_params_"
   ]
  },
  {
   "cell_type": "markdown",
   "id": "f143eb05",
   "metadata": {},
   "source": [
    "__Adjusted R-square__"
   ]
  },
  {
   "cell_type": "code",
   "execution_count": 70,
   "id": "f39aed1c",
   "metadata": {},
   "outputs": [
    {
     "data": {
      "text/plain": [
       "0.7806718282641614"
      ]
     },
     "execution_count": 70,
     "metadata": {},
     "output_type": "execute_result"
    }
   ],
   "source": [
    "ridge_reg.score(df_train.iloc[:,1:], df_train.price)"
   ]
  },
  {
   "cell_type": "markdown",
   "id": "72c37729",
   "metadata": {},
   "source": [
    "__Test Dataset__"
   ]
  },
  {
   "cell_type": "markdown",
   "id": "ea037cd9",
   "metadata": {},
   "source": [
    "Using the ridge object to predict the output using the independent variables."
   ]
  },
  {
   "cell_type": "code",
   "execution_count": 71,
   "id": "0a7ce55b",
   "metadata": {},
   "outputs": [
    {
     "data": {
      "text/plain": [
       "263.62336580014437"
      ]
     },
     "execution_count": 71,
     "metadata": {},
     "output_type": "execute_result"
    }
   ],
   "source": [
    "ridge_predtest = ridge_reg.predict(df_test.iloc[:,1:])\n",
    "# RMSE\n",
    "np.sqrt(np.mean((ridge_predtest - df_test.price)**2))"
   ]
  },
  {
   "cell_type": "markdown",
   "id": "3093587e",
   "metadata": {},
   "source": [
    "__Train Dataset__"
   ]
  },
  {
   "cell_type": "code",
   "execution_count": 72,
   "id": "6799836c",
   "metadata": {},
   "outputs": [
    {
     "data": {
      "text/plain": [
       "263.67727411498896"
      ]
     },
     "execution_count": 72,
     "metadata": {},
     "output_type": "execute_result"
    }
   ],
   "source": [
    "ridge_predtrain = ridge_reg.predict(df_train.iloc[:,1:])\n",
    "# RMSE\n",
    "np.sqrt(np.mean((ridge_predtrain - df_train.price)**2))"
   ]
  },
  {
   "cell_type": "code",
   "execution_count": null,
   "id": "e1167290",
   "metadata": {},
   "outputs": [],
   "source": []
  },
  {
   "cell_type": "markdown",
   "id": "68fbb074",
   "metadata": {},
   "source": [
    "__ElasticNet Regeression__"
   ]
  },
  {
   "cell_type": "markdown",
   "id": "c3e85ac0",
   "metadata": {},
   "source": [
    "Declaring the elasticnet object"
   ]
  },
  {
   "cell_type": "code",
   "execution_count": 73,
   "id": "24e88d85",
   "metadata": {},
   "outputs": [],
   "source": [
    "elastic = ElasticNet()"
   ]
  },
  {
   "cell_type": "markdown",
   "id": "80e7fbde",
   "metadata": {},
   "source": [
    "Using the gridsearchcv to find the best parameters from the declared parameters and creating the elasticnet object "
   ]
  },
  {
   "cell_type": "code",
   "execution_count": 74,
   "id": "72d530db",
   "metadata": {},
   "outputs": [],
   "source": [
    "elastic_reg = GridSearchCV(elastic, parameters, scoring = 'r2', cv = 5)"
   ]
  },
  {
   "cell_type": "markdown",
   "id": "74a0a0c7",
   "metadata": {},
   "source": [
    "Fitting the elasticnet object on the train dataset."
   ]
  },
  {
   "cell_type": "code",
   "execution_count": 75,
   "id": "a494bcea",
   "metadata": {
    "scrolled": true
   },
   "outputs": [
    {
     "data": {
      "text/plain": [
       "GridSearchCV(cv=5, estimator=ElasticNet(),\n",
       "             param_grid={'alpha': [1e-10, 1e-08, 0.0001, 0.001, 0.01, 1, 5, 10,\n",
       "                                   20]},\n",
       "             scoring='r2')"
      ]
     },
     "execution_count": 75,
     "metadata": {},
     "output_type": "execute_result"
    }
   ],
   "source": [
    "elastic_reg.fit(df_train.iloc[:,1:], df_train.price)"
   ]
  },
  {
   "cell_type": "markdown",
   "id": "96079f61",
   "metadata": {},
   "source": [
    "Checking the best parameter"
   ]
  },
  {
   "cell_type": "code",
   "execution_count": 76,
   "id": "85a74c3f",
   "metadata": {},
   "outputs": [
    {
     "data": {
      "text/plain": [
       "{'alpha': 0.0001}"
      ]
     },
     "execution_count": 76,
     "metadata": {},
     "output_type": "execute_result"
    }
   ],
   "source": [
    "elastic_reg.best_params_"
   ]
  },
  {
   "cell_type": "markdown",
   "id": "25ef85c3",
   "metadata": {},
   "source": [
    "__Adjusted R-square__"
   ]
  },
  {
   "cell_type": "code",
   "execution_count": 77,
   "id": "4800b5ce",
   "metadata": {},
   "outputs": [
    {
     "data": {
      "text/plain": [
       "0.7806718025752775"
      ]
     },
     "execution_count": 77,
     "metadata": {},
     "output_type": "execute_result"
    }
   ],
   "source": [
    "elastic_reg.score(df_train.iloc[:,1:], df_train.price)"
   ]
  },
  {
   "cell_type": "markdown",
   "id": "5ba1f119",
   "metadata": {},
   "source": [
    "__Test Dataset__"
   ]
  },
  {
   "cell_type": "markdown",
   "id": "86c179b2",
   "metadata": {},
   "source": [
    "Using the elasticnet object to predict the output using the independent variables."
   ]
  },
  {
   "cell_type": "code",
   "execution_count": 78,
   "id": "2b3e5c97",
   "metadata": {},
   "outputs": [
    {
     "data": {
      "text/plain": [
       "263.62671892404086"
      ]
     },
     "execution_count": 78,
     "metadata": {},
     "output_type": "execute_result"
    }
   ],
   "source": [
    "elastic_predtest = elastic_reg.predict(df_test.iloc[:,1:])\n",
    "# RMSE\n",
    "np.sqrt(np.mean((elastic_predtest - df_test.price)**2))"
   ]
  },
  {
   "cell_type": "markdown",
   "id": "b46e547d",
   "metadata": {},
   "source": [
    "__Train Dataset__"
   ]
  },
  {
   "cell_type": "code",
   "execution_count": 79,
   "id": "affaba3f",
   "metadata": {},
   "outputs": [
    {
     "data": {
      "text/plain": [
       "263.6772895566322"
      ]
     },
     "execution_count": 79,
     "metadata": {},
     "output_type": "execute_result"
    }
   ],
   "source": [
    "elastic_predtrain = elastic_reg.predict(df_train.iloc[:,1:])\n",
    "# RMSE\n",
    "np.sqrt(np.mean((elastic_predtrain - df_train.price)**2))"
   ]
  },
  {
   "cell_type": "markdown",
   "id": "7eb96b3a",
   "metadata": {},
   "source": [
    "| **slno** |      **Model**     | **Adjusted R-square**  | **Train Data RMSE** | **Test Data RMSE** |\n",
    "|:--------:|:-------------------|:-----------------------|:--------------------|:-------------------|\n",
    "| 1        | Base Model         | 0.78                   | 263.68             | 263.62       |\n",
    "| 2        | Lasso Model        | 0.78                   | 263.68             | 263.62       |\n",
    "| 3        | Ridge Model        | 0.78                   | 263.68             | 263.62       |\n",
    "| 4        | ElasticNet Model   | 0.78                   | 263.68             | 263.63     |\n"
   ]
  },
  {
   "cell_type": "markdown",
   "id": "d7e2023f",
   "metadata": {},
   "source": [
    "### CONCLUSION"
   ]
  },
  {
   "cell_type": "markdown",
   "id": "d9998b04",
   "metadata": {},
   "source": [
    "From the above details we can see that the base model is giving the same r-square and rmse values as the lasso, ridge and elasticnet models. so for this dataset Base model is ideal."
   ]
  },
  {
   "cell_type": "code",
   "execution_count": null,
   "id": "ee032f55",
   "metadata": {},
   "outputs": [],
   "source": []
  }
 ],
 "metadata": {
  "kernelspec": {
   "display_name": "Python 3 (ipykernel)",
   "language": "python",
   "name": "python3"
  },
  "language_info": {
   "codemirror_mode": {
    "name": "ipython",
    "version": 3
   },
   "file_extension": ".py",
   "mimetype": "text/x-python",
   "name": "python",
   "nbconvert_exporter": "python",
   "pygments_lexer": "ipython3",
   "version": "3.9.12"
  }
 },
 "nbformat": 4,
 "nbformat_minor": 5
}
